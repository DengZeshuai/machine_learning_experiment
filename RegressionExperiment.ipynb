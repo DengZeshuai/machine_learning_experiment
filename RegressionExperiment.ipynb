{
 "cells": [
  {
   "cell_type": "code",
   "execution_count": 4,
   "metadata": {},
   "outputs": [
    {
     "data": {
      "image/png": "[encoded data removed]",
      "text/plain": [
       "<matplotlib.figure.Figure at 0x253fa8dca90>"
      ]
     },
     "metadata": {},
     "output_type": "display_data"
    },
    {
     "name": "stdout",
     "output_type": "stream",
     "text": [
      "minimal train loss:  11.4968753689\n",
      "minimal test loss:  10.4454852119\n"
     ]
    }
   ],
   "source": [
    "# write your code here\n",
    "from sklearn import datasets, model_selection\n",
    "import numpy as np\n",
    "from scipy.sparse import csr_matrix, hstack\n",
    "\n",
    "def data_loader(file):\n",
    "    inputs,labels = datasets.load_svmlight_file(file)\n",
    "    one = np.ones((inputs.shape[0],1))\n",
    "    inputs = hstack( [inputs, csr_matrix(one)] ).toarray()\n",
    "    labels = np.array(labels).reshape(inputs.shape[0],1)\n",
    "    return inputs, labels\n",
    "\n",
    "def train(X, Y, theta, learning_rate=0.001):\n",
    "    gradient = np.dot(X.transpose(), X.dot(theta) - Y )\n",
    "    theta -= learning_rate * gradient\n",
    "    return theta\n",
    "\n",
    "def loss_function(X_test, Y_test, theta):\n",
    "    Y_prediction = X_test.dot(theta)\n",
    "    loss = 0.5/X_test.shape[0] * np.dot((Y_test - Y_prediction).transpose(), (Y_test - Y_prediction) ).sum()\n",
    "    return loss\n",
    "\n",
    "def plot_loss(train_loss,test_loss):\n",
    "    import matplotlib.pyplot as plt\n",
    "    plt.xlabel('Epoch')\n",
    "    plt.ylabel('Loss')\n",
    "    plt.plot(train_loss, label=\"train_loss\")\n",
    "    plt.plot(test_loss, label=\"test_loss\")\n",
    "    plt.legend(loc='upper right')\n",
    "    plt.show()\n",
    "\n",
    "def main(learning_rate=0.001, epoch=1000):\n",
    "    X, y = data_loader('housing.txt')\n",
    "    theta = np.zeros((X.shape[1], 1))\n",
    "    X_train, X_test, y_train, y_test = model_selection.train_test_split(X, y, test_size=0.33, random_state=42)\n",
    "    train_loss = []\n",
    "    test_loss = []\n",
    "    for episode in range(epoch):\n",
    "        theta = train(X_train, y_train, theta, learning_rate)\n",
    "\n",
    "        loss = loss_function(X_train, y_train, theta)\n",
    "        train_loss.append(loss)\n",
    "        \n",
    "        loss = loss_function(X_test, y_test, theta)\n",
    "        test_loss.append(loss)\n",
    "    plot_loss(train_loss,test_loss)\n",
    "    print(\"minimal train loss: \", min(train_loss))\n",
    "    print(\"minimal test loss: \", min(test_loss))\n",
    "\n",
    "if __name__ ==\"__main__\":\n",
    "    main(learning_rate=0.00035, epoch=1000)"
   ]
  },
  {
   "cell_type": "code",
   "execution_count": null,
   "metadata": {
    "collapsed": true
   },
   "outputs": [],
   "source": []
  }
 ],
 "metadata": {
  "kernelspec": {
   "display_name": "Python 3",
   "language": "python",
   "name": "python3"
  },
  "language_info": {
   "codemirror_mode": {
    "name": "ipython",
    "version": 3
   },
   "file_extension": ".py",
   "mimetype": "text/x-python",
   "name": "python",
   "nbconvert_exporter": "python",
   "pygments_lexer": "ipython3",
   "version": "3.6.2rc2"
  }
 },
 "nbformat": 4,
 "nbformat_minor": 2
}
